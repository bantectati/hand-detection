{
 "cells": [
  {
   "cell_type": "markdown",
   "id": "366161fb-abd0-46a2-b169-726294ccd213",
   "metadata": {},
   "source": [
    "# 10Alytics Hand Detection Project"
   ]
  },
  {
   "cell_type": "code",
   "execution_count": 6,
   "id": "f83572ef-b067-47f0-84e1-6cb73e081b44",
   "metadata": {},
   "outputs": [
    {
     "name": "stdout",
     "output_type": "stream",
     "text": [
      "Requirement already satisfied: mediapipe in c:\\users\\redi\\appdata\\roaming\\python\\python312\\site-packages (0.10.18)\n",
      "Requirement already satisfied: absl-py in c:\\users\\redi\\appdata\\roaming\\python\\python312\\site-packages (from mediapipe) (2.1.0)\n",
      "Requirement already satisfied: attrs>=19.1.0 in c:\\users\\redi\\anaconda3\\anacondalatestversion\\lib\\site-packages (from mediapipe) (23.1.0)\n",
      "Requirement already satisfied: flatbuffers>=2.0 in c:\\users\\redi\\anaconda3\\anacondalatestversion\\lib\\site-packages (from mediapipe) (24.3.25)\n",
      "Requirement already satisfied: jax in c:\\users\\redi\\appdata\\roaming\\python\\python312\\site-packages (from mediapipe) (0.4.35)\n",
      "Requirement already satisfied: jaxlib in c:\\users\\redi\\appdata\\roaming\\python\\python312\\site-packages (from mediapipe) (0.4.35)\n",
      "Requirement already satisfied: matplotlib in c:\\users\\redi\\anaconda3\\anacondalatestversion\\lib\\site-packages (from mediapipe) (3.9.2)\n",
      "Requirement already satisfied: numpy<2 in c:\\users\\redi\\anaconda3\\anacondalatestversion\\lib\\site-packages (from mediapipe) (1.26.4)\n",
      "Requirement already satisfied: opencv-contrib-python in c:\\users\\redi\\appdata\\roaming\\python\\python312\\site-packages (from mediapipe) (4.10.0.84)\n",
      "Requirement already satisfied: protobuf<5,>=4.25.3 in c:\\users\\redi\\anaconda3\\anacondalatestversion\\lib\\site-packages (from mediapipe) (4.25.3)\n",
      "Requirement already satisfied: sounddevice>=0.4.4 in c:\\users\\redi\\appdata\\roaming\\python\\python312\\site-packages (from mediapipe) (0.5.1)\n",
      "Requirement already satisfied: sentencepiece in c:\\users\\redi\\anaconda3\\anacondalatestversion\\lib\\site-packages (from mediapipe) (0.2.0)\n",
      "Requirement already satisfied: CFFI>=1.0 in c:\\users\\redi\\anaconda3\\anacondalatestversion\\lib\\site-packages (from sounddevice>=0.4.4->mediapipe) (1.17.1)\n",
      "Requirement already satisfied: ml-dtypes>=0.4.0 in c:\\users\\redi\\appdata\\roaming\\python\\python312\\site-packages (from jax->mediapipe) (0.5.0)\n",
      "Requirement already satisfied: opt-einsum in c:\\users\\redi\\anaconda3\\anacondalatestversion\\lib\\site-packages (from jax->mediapipe) (3.4.0)\n",
      "Requirement already satisfied: scipy>=1.10 in c:\\users\\redi\\anaconda3\\anacondalatestversion\\lib\\site-packages (from jax->mediapipe) (1.13.1)\n",
      "Requirement already satisfied: contourpy>=1.0.1 in c:\\users\\redi\\anaconda3\\anacondalatestversion\\lib\\site-packages (from matplotlib->mediapipe) (1.2.0)\n",
      "Requirement already satisfied: cycler>=0.10 in c:\\users\\redi\\anaconda3\\anacondalatestversion\\lib\\site-packages (from matplotlib->mediapipe) (0.11.0)\n",
      "Requirement already satisfied: fonttools>=4.22.0 in c:\\users\\redi\\anaconda3\\anacondalatestversion\\lib\\site-packages (from matplotlib->mediapipe) (4.51.0)\n",
      "Requirement already satisfied: kiwisolver>=1.3.1 in c:\\users\\redi\\anaconda3\\anacondalatestversion\\lib\\site-packages (from matplotlib->mediapipe) (1.4.4)\n",
      "Requirement already satisfied: packaging>=20.0 in c:\\users\\redi\\anaconda3\\anacondalatestversion\\lib\\site-packages (from matplotlib->mediapipe) (24.1)\n",
      "Requirement already satisfied: pillow>=8 in c:\\users\\redi\\anaconda3\\anacondalatestversion\\lib\\site-packages (from matplotlib->mediapipe) (10.4.0)\n",
      "Requirement already satisfied: pyparsing>=2.3.1 in c:\\users\\redi\\anaconda3\\anacondalatestversion\\lib\\site-packages (from matplotlib->mediapipe) (3.1.2)\n",
      "Requirement already satisfied: python-dateutil>=2.7 in c:\\users\\redi\\anaconda3\\anacondalatestversion\\lib\\site-packages (from matplotlib->mediapipe) (2.9.0.post0)\n",
      "Requirement already satisfied: pycparser in c:\\users\\redi\\anaconda3\\anacondalatestversion\\lib\\site-packages (from CFFI>=1.0->sounddevice>=0.4.4->mediapipe) (2.21)\n",
      "Requirement already satisfied: six>=1.5 in c:\\users\\redi\\anaconda3\\anacondalatestversion\\lib\\site-packages (from python-dateutil>=2.7->matplotlib->mediapipe) (1.16.0)\n"
     ]
    }
   ],
   "source": [
    "!pip install mediapipe"
   ]
  },
  {
   "cell_type": "code",
   "execution_count": 7,
   "id": "f924024a-da6d-4885-b8c3-a1b4cd84cfcd",
   "metadata": {},
   "outputs": [],
   "source": [
    "# Step 1: Import all neccesary Libraries\n",
    "\n",
    "import cv2\n",
    "import mediapipe as mp\n",
    "\n"
   ]
  },
  {
   "cell_type": "code",
   "execution_count": 8,
   "id": "d53bfa3a-c289-4c2a-8ac2-9b9cc114d268",
   "metadata": {},
   "outputs": [],
   "source": [
    "# Step 2: Identify your webcam\n",
    "\n",
    "cap = cv2.VideoCapture(0)  # Local Webcame - 0, External Webcam - 1"
   ]
  },
  {
   "cell_type": "code",
   "execution_count": 9,
   "id": "2727ae92-e938-4f00-a01a-e8a320ccb1d8",
   "metadata": {},
   "outputs": [],
   "source": [
    "# Step 4: Leveraging the Mediapipe library used for hand detection\n",
    "\n",
    "mpHands = mp.solutions.hands\n",
    "hands = mpHands.Hands()\n",
    "mpDraw = mp.solutions.drawing_utils"
   ]
  },
  {
   "cell_type": "code",
   "execution_count": 10,
   "id": "c5506623-b063-4986-b2b3-661e02313fa1",
   "metadata": {},
   "outputs": [],
   "source": [
    "# Step 3: Switch on Webcam\n",
    "\n",
    "while True:\n",
    "    _, img = cap.read()\n",
    "\n",
    "\n",
    "    # Convert image from BGR to RGB\n",
    "    imgRGB = cv2.cvtColor(img, cv2.COLOR_BGR2RGB)\n",
    "\n",
    "\n",
    "    # Apply mediapipe\n",
    "    results = hands.process(imgRGB)\n",
    "\n",
    "    # print(results.multi_hand_landmarks)\n",
    "\n",
    "    if results.multi_hand_landmarks:\n",
    "        for handLms in results.multi_hand_landmarks:\n",
    "            for id, lm in enumerate(handLms.landmark):\n",
    "               # print(id, lm)\n",
    "   \n",
    "                mpDraw.draw_landmarks(img, handLms, mpHands.HAND_CONNECTIONS)\n",
    "\n",
    "    \n",
    "    cv2.putText(img, \"10Alytics Hand Detection Program\", (10, 70), cv2.FONT_HERSHEY_PLAIN, 3, (255,255,255), 2)\n",
    "    cv2.imshow(\"10Alytics Hand Detection project\" , img)\n",
    "    if cv2.waitKey(1) & 0xFF == ord('q'):\n",
    "        break\n",
    "\n",
    "# Release the capture once all the processing is done.\n",
    "cap.release()\n",
    "cv2.destroyAllWindows()"
   ]
  }
 ],
 "metadata": {
  "kernelspec": {
   "display_name": "Python 3 (ipykernel)",
   "language": "python",
   "name": "python3"
  },
  "language_info": {
   "codemirror_mode": {
    "name": "ipython",
    "version": 3
   },
   "file_extension": ".py",
   "mimetype": "text/x-python",
   "name": "python",
   "nbconvert_exporter": "python",
   "pygments_lexer": "ipython3",
   "version": "3.12.7"
  }
 },
 "nbformat": 4,
 "nbformat_minor": 5
}
